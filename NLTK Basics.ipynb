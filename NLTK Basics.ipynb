{
 "cells": [
  {
   "cell_type": "markdown",
   "metadata": {},
   "source": [
    "# Basics of NLTK"
   ]
  },
  {
   "cell_type": "code",
   "execution_count": 1,
   "metadata": {},
   "outputs": [],
   "source": [
    "import nltk"
   ]
  },
  {
   "cell_type": "code",
   "execution_count": 2,
   "metadata": {},
   "outputs": [
    {
     "name": "stdout",
     "output_type": "stream",
     "text": [
      "['Hey my name is Amol.', 'I am trying my hands on nlp toolkit for the first time']\n"
     ]
    }
   ],
   "source": [
    "text = \"Hey my name is Amol. I am trying my hands on nlp toolkit for the first time\"\n",
    "sentences = nltk.sent_tokenize(text)\n",
    "print (sentences)"
   ]
  },
  {
   "cell_type": "code",
   "execution_count": 3,
   "metadata": {},
   "outputs": [
    {
     "data": {
      "text/plain": [
       "['Hey', 'my', 'name', 'is', 'Amol']"
      ]
     },
     "execution_count": 3,
     "metadata": {},
     "output_type": "execute_result"
    }
   ],
   "source": [
    "words = nltk.word_tokenize(text) #Splitting a sample text into words using word_tokenizer function.\n",
    "len (words)\n",
    "words [:5] # This will display first 5 words"
   ]
  },
  {
   "cell_type": "code",
   "execution_count": 4,
   "metadata": {},
   "outputs": [
    {
     "data": {
      "text/plain": [
       "[('my', 2), ('Hey', 1)]"
      ]
     },
     "execution_count": 4,
     "metadata": {},
     "output_type": "execute_result"
    }
   ],
   "source": [
    "word_freq = nltk.FreqDist(words) #FreqDist function in used to display frequently used words\n",
    "word_freq.most_common(2) #This will display most commonly used 2 words"
   ]
  },
  {
   "cell_type": "code",
   "execution_count": 5,
   "metadata": {},
   "outputs": [],
   "source": [
    "#nltk.download('book') This will download copora books"
   ]
  },
  {
   "cell_type": "code",
   "execution_count": 6,
   "metadata": {},
   "outputs": [
    {
     "name": "stdout",
     "output_type": "stream",
     "text": [
      "*** Introductory Examples for the NLTK Book ***\n",
      "Loading text1, ..., text9 and sent1, ..., sent9\n",
      "Type the name of the text or sentence to view it.\n",
      "Type: 'texts()' or 'sents()' to list the materials.\n",
      "text1: Moby Dick by Herman Melville 1851\n",
      "text2: Sense and Sensibility by Jane Austen 1811\n",
      "text3: The Book of Genesis\n",
      "text4: Inaugural Address Corpus\n",
      "text5: Chat Corpus\n",
      "text6: Monty Python and the Holy Grail\n",
      "text7: Wall Street Journal\n",
      "text8: Personals Corpus\n",
      "text9: The Man Who Was Thursday by G . K . Chesterton 1908\n"
     ]
    }
   ],
   "source": [
    "from nltk.book import * #The command loads nine texts and nine sentences, from the collection book"
   ]
  },
  {
   "cell_type": "code",
   "execution_count": 7,
   "metadata": {},
   "outputs": [
    {
     "name": "stdout",
     "output_type": "stream",
     "text": [
      "Herman; Herein\n"
     ]
    }
   ],
   "source": [
    "text1.findall(\"<Her.*n>\") #This command will find words starting with Her and ending with n"
   ]
  },
  {
   "cell_type": "code",
   "execution_count": 8,
   "metadata": {},
   "outputs": [
    {
     "name": "stdout",
     "output_type": "stream",
     "text": [
      "260819\n"
     ]
    }
   ],
   "source": [
    "total_words =len(text1) #Total number of words in text1 is determined using len.\n",
    "print(total_words)"
   ]
  },
  {
   "cell_type": "code",
   "execution_count": 9,
   "metadata": {},
   "outputs": [
    {
     "name": "stdout",
     "output_type": "stream",
     "text": [
      "19317\n"
     ]
    }
   ],
   "source": [
    "no_of_unique_words = len(set(text1)) #set(text1) generates list of unique words from text1\n",
    "print(no_of_unique_words)"
   ]
  },
  {
   "cell_type": "code",
   "execution_count": 10,
   "metadata": {},
   "outputs": [
    {
     "name": "stdout",
     "output_type": "stream",
     "text": [
      "17231\n"
     ]
    }
   ],
   "source": [
    "text1_lcw = [ word.lower() for word in set(text1)] #lower case all the unique words in text1\n",
    "no_of_unique_words_lcw = len(set(text1_lcw)) #find all the unique words\n",
    "print(no_of_unique_words_lcw)"
   ]
  },
  {
   "cell_type": "code",
   "execution_count": 11,
   "metadata": {},
   "outputs": [
    {
     "name": "stdout",
     "output_type": "stream",
     "text": [
      "['uninterpenetratingly', 'characteristically']\n"
     ]
    }
   ],
   "source": [
    "big_words = [ word for word in set(text1) if len(word) > 17] #find words greater than 17 alphabets in text1\n",
    "print(big_words)"
   ]
  },
  {
   "cell_type": "code",
   "execution_count": 12,
   "metadata": {},
   "outputs": [
    {
     "name": "stdout",
     "output_type": "stream",
     "text": [
      "['Sunday', 'Sunset', 'Sunda']\n"
     ]
    }
   ],
   "source": [
    "sun_words = [ word for word in set(text1) if word.startswith('Sun')] #filter all the words that starts with sun\n",
    "print (sun_words)"
   ]
  },
  {
   "cell_type": "code",
   "execution_count": 13,
   "metadata": {},
   "outputs": [
    {
     "name": "stdout",
     "output_type": "stream",
     "text": [
      "[(',', 18713), ('the', 13721), ('.', 6862)]\n"
     ]
    }
   ],
   "source": [
    "text1_freq = nltk.FreqDist(text1) #frequency of words in the text\n",
    "text1_freq['Sunday'] #No of times word sunday is occured\n",
    "text1_freq.freq('Sunday') # frequency of word Sunday\n",
    "text1_freq.N() #total no of words in the text1_freq\n",
    "text1_freq.max() #sample with greatest count\n",
    "#text1_freq.tabulate() #tabulate the text\n",
    "\n",
    "most_common_text1 = text1_freq.most_common(3) #top 3 most common words\n",
    "print(most_common_text1)"
   ]
  },
  {
   "cell_type": "code",
   "execution_count": 14,
   "metadata": {},
   "outputs": [
    {
     "data": {
      "text/plain": [
       "[('Queequeg', 252), ('Starbuck', 196), ('something', 119)]"
      ]
     },
     "execution_count": 14,
     "metadata": {},
     "output_type": "execute_result"
    }
   ],
   "source": [
    "large_uncommon_words = [ word for word in text1 if word.isalpha() and len(word) > 7]\n",
    "text_uncommon_words = nltk.FreqDist(large_uncommon_words)\n",
    "text_uncommon_words.most_common(3)  #Queequeg, Starbuck and something are the top three words, based on the chosen criteria."
   ]
  },
  {
   "cell_type": "code",
   "execution_count": 16,
   "metadata": {},
   "outputs": [
    {
     "name": "stdout",
     "output_type": "stream",
     "text": [
      "4\n"
     ]
    },
    {
     "data": {
      "text/plain": [
       "0.013261036128956209"
      ]
     },
     "execution_count": 16,
     "metadata": {},
     "output_type": "execute_result"
    }
   ],
   "source": [
    "u= (text6)\n",
    "sun_words = [ word for word in u if word.endswith('BROTHER')]\n",
    "print(len(sun_words))\n",
    "text6_freq = nltk.FreqDist(text6)\n",
    "text6_freq.freq('ARTHUR')\n"
   ]
  },
  {
   "cell_type": "code",
   "execution_count": null,
   "metadata": {},
   "outputs": [],
   "source": []
  }
 ],
 "metadata": {
  "kernelspec": {
   "display_name": "Python 3",
   "language": "python",
   "name": "python3"
  },
  "language_info": {
   "codemirror_mode": {
    "name": "ipython",
    "version": 3
   },
   "file_extension": ".py",
   "mimetype": "text/x-python",
   "name": "python",
   "nbconvert_exporter": "python",
   "pygments_lexer": "ipython3",
   "version": "3.6.5"
  }
 },
 "nbformat": 4,
 "nbformat_minor": 2
}
